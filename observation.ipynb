{
 "cells": [
  {
   "cell_type": "code",
   "execution_count": 1,
   "metadata": {},
   "outputs": [],
   "source": [
    "import torch\n",
    "import matplotlib.pyplot as plt\n",
    "\n",
    "data = torch.load(\"logs/mnist/DataSeed4399_RunSeed42_NUM100_BS64_LR0.05_EP3_K10/Setting_Pareto_C1.0_Q100000.0_Alpha0.5_200/04-06-14:21/stats.pkl\")"
   ]
  },
  {
   "cell_type": "code",
   "execution_count": 2,
   "metadata": {},
   "outputs": [
    {
     "data": {
      "text/plain": [
       "{'count': array([ 95.,  85., 120.,  76., 119., 130., 118.,  91., 116., 138., 108.,\n",
       "        107., 140., 106.,  93., 109.,  78., 118., 126., 133., 103., 127.,\n",
       "        135.,  55., 130., 119.,  60.,  91.,  30., 113., 117.,  91.,  78.,\n",
       "        121., 103., 130.,  58., 133., 125., 134.,  25., 116., 104.,  87.,\n",
       "        130., 115., 135., 133., 116., 131., 131.,  86., 168., 122.,  89.,\n",
       "        147., 107., 107., 113., 130., 110., 117., 130., 127., 101., 115.,\n",
       "        129.,  90.,  70., 121., 124., 114., 125., 133., 123.,  56., 124.,\n",
       "        134., 127.,  22., 108., 134., 126., 110., 128.,  97.,  91., 131.,\n",
       "         71.,  49.,  38., 131., 122., 105., 132., 103., 102., 143.,  50.,\n",
       "        147.])}"
      ]
     },
     "execution_count": 2,
     "metadata": {},
     "output_type": "execute_result"
    }
   ],
   "source": [
    "data"
   ]
  },
  {
   "cell_type": "code",
   "execution_count": 1,
   "metadata": {},
   "outputs": [
    {
     "name": "stdout",
     "output_type": "stream",
     "text": [
      "Files already downloaded and verified\n"
     ]
    }
   ],
   "source": [
    "import torchvision\n",
    "import torchvision.transforms as transforms\n",
    "\n",
    "test_data = torchvision.datasets.CIFAR100(root=\"./datasets/cifar100/\",\n",
    "                                        download=True,\n",
    "                                        train=False,\n",
    "                                        transform=transforms.Compose([\n",
    "                                            transforms.ToTensor(),\n",
    "                                            transforms.Normalize(\n",
    "                                                (0.4914, 0.4822, 0.4465),\n",
    "                                                (0.2023, 0.1994, 0.2010))\n",
    "                                        ]))"
   ]
  },
  {
   "cell_type": "code",
   "execution_count": null,
   "metadata": {},
   "outputs": [],
   "source": []
  }
 ],
 "metadata": {
  "kernelspec": {
   "display_name": "fedlab",
   "language": "python",
   "name": "python3"
  },
  "language_info": {
   "codemirror_mode": {
    "name": "ipython",
    "version": 3
   },
   "file_extension": ".py",
   "mimetype": "text/x-python",
   "name": "python",
   "nbconvert_exporter": "python",
   "pygments_lexer": "ipython3",
   "version": "3.10.0"
  },
  "orig_nbformat": 4
 },
 "nbformat": 4,
 "nbformat_minor": 2
}
